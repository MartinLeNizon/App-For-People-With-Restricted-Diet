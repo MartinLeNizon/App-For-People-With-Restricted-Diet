{
 "cells": [
  {
   "cell_type": "markdown",
   "metadata": {},
   "source": [
    "# Model EasyOCR"
   ]
  },
  {
   "cell_type": "code",
   "execution_count": 1,
   "metadata": {},
   "outputs": [
    {
     "name": "stderr",
     "output_type": "stream",
     "text": [
      "c:\\Python312\\Lib\\site-packages\\tqdm\\auto.py:21: TqdmWarning: IProgress not found. Please update jupyter and ipywidgets. See https://ipywidgets.readthedocs.io/en/stable/user_install.html\n",
      "  from .autonotebook import tqdm as notebook_tqdm\n",
      "Using CPU. Note: This module is much faster with a GPU.\n"
     ]
    }
   ],
   "source": [
    "import easyocr\n",
    "import PIL\n",
    "from PIL import Image, ImageDraw\n",
    "\n",
    "# --------------------------------------------------\n",
    "reader = easyocr.Reader(['en'], gpu=False)  # English\n",
    "# --------------------------------------------------"
   ]
  },
  {
   "cell_type": "markdown",
   "metadata": {},
   "source": [
    "# Imports"
   ]
  },
  {
   "cell_type": "code",
   "execution_count": 4,
   "metadata": {},
   "outputs": [],
   "source": [
    "import numpy as np\n",
    "import pandas as pd\n",
    "\n",
    "from statistics import mean\n",
    "from sklearn.metrics import confusion_matrix"
   ]
  },
  {
   "cell_type": "markdown",
   "metadata": {},
   "source": [
    "# Global declarations"
   ]
  },
  {
   "cell_type": "code",
   "execution_count": 5,
   "metadata": {},
   "outputs": [],
   "source": [
    "allergens = {\n",
    "    0: \"gluten\",\n",
    "    1: \"eggs\",\n",
    "    2: \"milk\",\n",
    "    3: \"nuts\",\n",
    "    4: \"peanuts\",\n",
    "    5: \"soja\",\n",
    "    6: \"molluscs\",\n",
    "    7: \"fish\",\n",
    "    8: \"lupin\",\n",
    "    9: \"crustaceans\",\n",
    "    10: \"sesame\",\n",
    "    11: \"mustard\",\n",
    "    12: \"celery\",\n",
    "    13: \"sulphites\"\n",
    "}"
   ]
  },
  {
   "cell_type": "markdown",
   "metadata": {},
   "source": [
    "# Code"
   ]
  },
  {
   "cell_type": "code",
   "execution_count": null,
   "metadata": {},
   "outputs": [],
   "source": [
    "def predict_allergens(image_path):\n",
    "    # ------------ Extract text ---------------------\n",
    "    image_path = 'CLIP/feature_engineering_dataset/enhanced_data/002.jpg'\n",
    "    result = reader.readtext(image_path)\n",
    "    text = ' '.join(item[1] for item in result)\n",
    "    # -----------------------------------------------\n",
    "\n",
    "    prediction_array = [0, 0, 0, 0, 0, 0, 0, 0, 0, 0, 0, 0, 0, 0]\n",
    "\n",
    "    # SEARCH IN THE TEXT IF THE ALLERGENS ARE PRESENT, AND UPDATE THE PREDICTION ARRAY\n",
    "    # BY SETTING THE VALUE 1 WHEN THE ALLERGEN IS PRESENT\n",
    "    # THE ORDER OF THE ALLERGENS IS WRITTEN LINE 7\n",
    "    # \n",
    "    # SEARCH COULD BE DONE IN TWO WAYS:\n",
    "    #       - REGULAR EXPRESSIONS: SEARCH IF KEYWORDS (Example: gluten or wheat for gluten)\n",
    "    #                           ARE PRESENT IN THE TEXT.\n",
    "    #       - USE A MODEL: SEARCH FOR SOME MODEL THAT COULD RECOGNIZE SOME WORDS WITHIN A TEXT"
   ]
  },
  {
   "cell_type": "code",
   "execution_count": null,
   "metadata": {},
   "outputs": [],
   "source": []
  }
 ],
 "metadata": {
  "kernelspec": {
   "display_name": "Python 3",
   "language": "python",
   "name": "python3"
  },
  "language_info": {
   "codemirror_mode": {
    "name": "ipython",
    "version": 3
   },
   "file_extension": ".py",
   "mimetype": "text/x-python",
   "name": "python",
   "nbconvert_exporter": "python",
   "pygments_lexer": "ipython3",
   "version": "3.12.1"
  }
 },
 "nbformat": 4,
 "nbformat_minor": 2
}
